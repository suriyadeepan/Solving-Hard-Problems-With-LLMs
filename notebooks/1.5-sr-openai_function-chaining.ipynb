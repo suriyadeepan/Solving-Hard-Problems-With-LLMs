{
 "cells": [
  {
   "cell_type": "markdown",
   "metadata": {},
   "source": [
    "# Tool/Function Chaining"
   ]
  },
  {
   "cell_type": "code",
   "execution_count": 1,
   "metadata": {},
   "outputs": [
    {
     "name": "stdout",
     "output_type": "stream",
     "text": [
      "c:\\Users\\suriya\\Documents\\projects\\Solving-Hard-Problems-With-LLMs\n"
     ]
    },
    {
     "name": "stderr",
     "output_type": "stream",
     "text": [
      "c:\\Users\\suriya\\Documents\\projects\\Solving-Hard-Problems-With-LLMs\\en-llm\\Lib\\site-packages\\IPython\\core\\magics\\osm.py:417: UserWarning: This is now an optional IPython functionality, setting dhist requires you to install the `pickleshare` library.\n",
      "  self.shell.db['dhist'] = compress_dhist(dhist)[-100:]\n"
     ]
    }
   ],
   "source": [
    "cd .."
   ]
  },
  {
   "cell_type": "code",
   "execution_count": 2,
   "metadata": {},
   "outputs": [],
   "source": [
    "%load_ext autoreload\n",
    "%autoreload 2"
   ]
  },
  {
   "cell_type": "markdown",
   "metadata": {},
   "source": [
    "## Setup openai API"
   ]
  },
  {
   "cell_type": "code",
   "execution_count": 4,
   "metadata": {},
   "outputs": [],
   "source": [
    "import openai\n",
    "# openai_api_key = open(\".secrets/openai-api_key.txt\").read()\n",
    "# or set an env variable"
   ]
  },
  {
   "cell_type": "markdown",
   "metadata": {},
   "source": [
    "## Setup tools\n",
    "\n",
    "I've made a few changes.\n",
    "\n",
    "`computeStatistic` now takes a pandas dataframe as input.\n",
    "\n",
    "So, the flow looks like: `getHistoricalPrice(start, end)` -> `dataframe` -> `computeStatistic(dataframe, statistic)`"
   ]
  },
  {
   "cell_type": "code",
   "execution_count": 20,
   "metadata": {},
   "outputs": [],
   "source": [
    "tools = [{\n",
    "        'type': 'function',\n",
    "        'function': {\n",
    "            'name': 'getHistoricalPrice',\n",
    "            'description': '''\n",
    "            Returns historical stock price data (dataframe) given start and end dates.\n",
    "            Example: Give me last month\\'s stock price data.\n",
    "            '''\n",
    "            ,\n",
    "            'parameters': {\n",
    "            'type': 'object',\n",
    "            'properties': {\n",
    "                'start': {\n",
    "                'type': 'string',\n",
    "                'description': 'Start Date in YYYY-MM-DD format',\n",
    "                },\n",
    "                'end': {\n",
    "                'type': 'string',\n",
    "                'description': 'End Date in YYYY-MM-DD format',\n",
    "                },\n",
    "            },\n",
    "            'required': ['start', 'end'],\n",
    "            },\n",
    "        },\n",
    "        },\n",
    "        {\n",
    "        'type': 'function',\n",
    "        'function': {\n",
    "            'name': 'computeStatistic',\n",
    "            'description': '''\n",
    "            Given stock price data (dataframe) compute a summary statistic represented by statistic argument.\n",
    "            Example: \"What is the maximum stock price this year?\".\n",
    "            '''\n",
    "            ,\n",
    "            'parameters': {\n",
    "            'type': 'object',\n",
    "            'properties': {\n",
    "                'stockPrice': {\n",
    "                'type': 'object',\n",
    "                'description': 'Stock price data given by pandas.DataFrame object',\n",
    "                },\n",
    "                'statistic': {\n",
    "                'type': 'string',\n",
    "                'description': 'Summary statistic to compute. Options include \"min\", \"max\", and, \"mean\".',\n",
    "                },\n",
    "            },\n",
    "            'required': ['stockPrice', 'statistic'],\n",
    "            },\n",
    "        },\n",
    "        },\n",
    "    ]\n"
   ]
  },
  {
   "cell_type": "markdown",
   "metadata": {},
   "source": [
    "## Define functions"
   ]
  },
  {
   "cell_type": "code",
   "execution_count": 21,
   "metadata": {},
   "outputs": [],
   "source": [
    "from datetime import datetime\n",
    "DATE_FORMAT = \"%Y-%m-%d\"\n",
    "\n",
    "\n",
    "def today():\n",
    "    return datetime.now().strftime(DATE_FORMAT)"
   ]
  },
  {
   "cell_type": "code",
   "execution_count": 56,
   "metadata": {},
   "outputs": [
    {
     "name": "stderr",
     "output_type": "stream",
     "text": [
      "[*********************100%***********************]  1 of 1 completed\n"
     ]
    },
    {
     "data": {
      "text/plain": [
       "207.22999572753906"
      ]
     },
     "execution_count": 56,
     "metadata": {},
     "output_type": "execute_result"
    }
   ],
   "source": [
    "import yfinance as yf\n",
    "import pandas as pd\n",
    "TICKER = \"AAPL\"\n",
    "\n",
    "def getHistoricalPrice(start: str, end: str):\n",
    "    df = yf.download(TICKER, start, end)\n",
    "    return df[\"Close\"]\n",
    "\n",
    "\n",
    "def computeStatistic(stockPrice: pd.DataFrame, statistic: str=\"mean\"):\n",
    "    return {\n",
    "        \"mean\": stockPrice.mean(),\n",
    "        \"max\": stockPrice.max(),\n",
    "        \"min\": stockPrice.min()\n",
    "    }[statistic].item()\n",
    "\n",
    "start, end = \"2024-08-01\", \"2024-08-31\"\n",
    "df = getHistoricalPrice(start, end)\n",
    "computeStatistic(df, statistic=\"min\")"
   ]
  },
  {
   "cell_type": "markdown",
   "metadata": {},
   "source": [
    "## Update Function Calling\n",
    "\n",
    "When `tool_calls` is a list of more than one function, chain them."
   ]
  },
  {
   "cell_type": "code",
   "execution_count": 68,
   "metadata": {},
   "outputs": [],
   "source": [
    "import json\n",
    "\n",
    "def call_fns(tool_calls):\n",
    "    for fn in tool_calls:\n",
    "        print(fn.function)\n",
    "    fndef = {\n",
    "        \"getHistoricalPrice\": getHistoricalPrice,\n",
    "        \"computeStatistic\": computeStatistic\n",
    "    }\n",
    "\n",
    "    x = None\n",
    "    for fn in tool_calls:\n",
    "        args = json.loads(fn.function.arguments)\n",
    "        name = fn.function.name\n",
    "        if x is None:\n",
    "            print(\"name:\", name, \"args:\", args)\n",
    "            x = fndef[name](**args)\n",
    "        else:\n",
    "            x = fndef[name](x, **args)\n",
    "    \n",
    "    return x"
   ]
  },
  {
   "cell_type": "markdown",
   "metadata": {},
   "source": [
    "## Generate Response"
   ]
  },
  {
   "cell_type": "code",
   "execution_count": 69,
   "metadata": {},
   "outputs": [],
   "source": [
    "def generate_response(query):\n",
    "    response = openai.chat.completions.create(\n",
    "        model=\"gpt-4o\",\n",
    "        messages=[{\"role\": \"system\", \"content\": f\"today's date is {today()}\"}, {'role': 'user', 'content': query}],\n",
    "        tools=tools,\n",
    "    )\n",
    "    message = response.choices[0].message\n",
    "    if message.content:\n",
    "        return message.content\n",
    "    \n",
    "    return call_fns(message.tool_calls)"
   ]
  },
  {
   "cell_type": "code",
   "execution_count": 72,
   "metadata": {},
   "outputs": [
    {
     "name": "stderr",
     "output_type": "stream",
     "text": [
      "[*********************100%***********************]  1 of 1 completed"
     ]
    },
    {
     "name": "stdout",
     "output_type": "stream",
     "text": [
      "Function(arguments='{\"start\": \"2023-01-01\", \"end\": \"2023-12-31\"}', name='getHistoricalPrice')\n",
      "Function(arguments='{\"statistic\": \"max\"}', name='computeStatistic')\n",
      "name: getHistoricalPrice args: {'start': '2023-01-01', 'end': '2023-12-31'}\n"
     ]
    },
    {
     "name": "stderr",
     "output_type": "stream",
     "text": [
      "\n"
     ]
    }
   ],
   "source": [
    "response = generate_response(\"What's the maximum stock price last year?\")"
   ]
  },
  {
   "cell_type": "code",
   "execution_count": 73,
   "metadata": {},
   "outputs": [
    {
     "data": {
      "text/plain": [
       "198.11000061035156"
      ]
     },
     "execution_count": 73,
     "metadata": {},
     "output_type": "execute_result"
    }
   ],
   "source": [
    "response"
   ]
  },
  {
   "cell_type": "markdown",
   "metadata": {},
   "source": [
    "## Conclusion\n",
    "\n",
    "Chaining multiple function calls was easier than I expected.\n",
    "\n",
    "My observations from running this example multiple times, tells me it fails about half the time.\n",
    "\n",
    "How do we make it reliable? "
   ]
  }
 ],
 "metadata": {
  "kernelspec": {
   "display_name": "en-llm",
   "language": "python",
   "name": "python3"
  },
  "language_info": {
   "codemirror_mode": {
    "name": "ipython",
    "version": 3
   },
   "file_extension": ".py",
   "mimetype": "text/x-python",
   "name": "python",
   "nbconvert_exporter": "python",
   "pygments_lexer": "ipython3",
   "version": "3.12.2"
  }
 },
 "nbformat": 4,
 "nbformat_minor": 2
}
